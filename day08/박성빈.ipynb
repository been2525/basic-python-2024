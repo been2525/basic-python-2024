{
 "cells": [
  {
   "cell_type": "markdown",
   "metadata": {},
   "source": [
    "## 1번 문제"
   ]
  },
  {
   "cell_type": "code",
   "execution_count": 17,
   "metadata": {},
   "outputs": [
    {
     "name": "stdout",
     "output_type": "stream",
     "text": [
      " 78.5398\n"
     ]
    }
   ],
   "source": [
    "# 1번 문제\n",
    "radius = input('반지름 값을 입력하시오 > ')\n",
    "PI = 3.141592\n",
    "print(f' {int(radius) * int(radius) * PI}')"
   ]
  },
  {
   "cell_type": "code",
   "execution_count": 8,
   "metadata": {},
   "outputs": [
    {
     "name": "stdout",
     "output_type": "stream",
     "text": [
      "원의 넓이는 78.53981633974483\n"
     ]
    }
   ],
   "source": [
    "# 1번 문제 답\n",
    "import math\n",
    "\n",
    "radius = int(input('반지름 입력'))\n",
    "print(f'원의 넓이는 {radius * radius * math.pi}')"
   ]
  },
  {
   "cell_type": "markdown",
   "metadata": {},
   "source": [
    "## 2번 문제"
   ]
  },
  {
   "cell_type": "code",
   "execution_count": 16,
   "metadata": {},
   "outputs": [
    {
     "name": "stdout",
     "output_type": "stream",
     "text": [
      "지구\n"
     ]
    }
   ],
   "source": [
    "# 2번 문제\n",
    "# planet = 'Mercury, Venus, Earth, Mars, Jupiter, Saturn, Uranus, Neptune'\n",
    "# dict_planet = {'Mercury' : '수성','Venus' : '금성', 'Earth' : '지구', 'Mars' : '화성', 'Jupiter' : '목성', 'Saturn' : '토성', 'Uranus' : '천왕성', 'Neptune' : '해왕성'}\n",
    "# if name == dict_planet['Mars'] :\n",
    "#     print(dict_planet['Mars'])\n",
    "# else:\n",
    "#     print('태양계가 아닙니다')\n",
    "name = input('행성의 영어이름을 입력하시오 > ')\n",
    "\n",
    "if name == 'Mercury':\n",
    "     print('수성')\n",
    "elif name == 'Venus':\n",
    "    print('금성')\n",
    "elif name == 'Earth':\n",
    "    print('지구')\n",
    "elif name == 'Mars':\n",
    "    print('화성')\n",
    "elif name == 'Jupiter':\n",
    "    print('목성')\n",
    "elif name == 'Saturn':\n",
    "    print('토성')\n",
    "elif name == 'Uranus':\n",
    "    print('천왕성')\n",
    "elif name == 'Neptune':\n",
    "    print('해왕성')\n",
    "else:\n",
    "    print('태양계가 아닙니다')"
   ]
  },
  {
   "cell_type": "code",
   "execution_count": null,
   "metadata": {},
   "outputs": [],
   "source": [
    "# 2번 문제 답\n",
    "solar = {'수성' : 'Mercury','금성' : 'Venus','지구' :  'Earth','화성' :  'Mars','목성' :  'Jupiter','토성' :  'Saturn','천왕성' :  'Uranus','해왕성' :  'Neptune'}\n",
    "kname = input('행성이름(한글) 입력 > ')\n",
    "print(solar[kname])"
   ]
  },
  {
   "cell_type": "markdown",
   "metadata": {},
   "source": [
    "## 3번 문제"
   ]
  },
  {
   "cell_type": "code",
   "execution_count": 55,
   "metadata": {},
   "outputs": [
    {
     "name": "stdout",
     "output_type": "stream",
     "text": [
      "fd fd fd = 3\n",
      "FDfdFD\n"
     ]
    }
   ],
   "source": [
    "# 3번 문제\n",
    "str = input('문장을 입력하시오 > ')\n",
    "words = str.split(' ')\n",
    "print(str, '=', len(words))\n",
    "idx = 0\n",
    "new = ''\n",
    "for i in words:\n",
    "    if idx % 2 == 0:\n",
    "        new += i.upper()\n",
    "    else:\n",
    "        new += i.lower()        \n",
    "    idx+=1\n",
    "    \n",
    "\n",
    "print(new)"
   ]
  },
  {
   "cell_type": "code",
   "execution_count": 5,
   "metadata": {},
   "outputs": [
    {
     "name": "stdout",
     "output_type": "stream",
     "text": [
      "단어 수 : 4\n",
      "nice TO meet YOU "
     ]
    }
   ],
   "source": [
    "# 3번문제 답\n",
    "setence = input('영어 문장 입력 > ')\n",
    "setences = setence.split(' ')\n",
    "print(f'단어 수 : {len(setences)}')\n",
    "\n",
    "num = 1\n",
    "for i in setences:\n",
    "    if (num % 2 == 0):\n",
    "        print(i.upper(), end=' ')    \n",
    "    else:\n",
    "        print(i, end=' ')\n",
    "    num += 1\n",
    "    "
   ]
  },
  {
   "cell_type": "markdown",
   "metadata": {},
   "source": [
    "## 4번 문제"
   ]
  },
  {
   "cell_type": "code",
   "execution_count": 31,
   "metadata": {},
   "outputs": [
    {
     "name": "stdout",
     "output_type": "stream",
     "text": [
      "https://www.naver.com\n"
     ]
    }
   ],
   "source": [
    "# 4번 문제\n",
    "from urllib.request import Request, urlopen\n",
    "url = input('영문이름을 입력하세요 > ')\n",
    "def get_url(x):\n",
    "    x = ('https://www.{}.com'.format(x))    \n",
    "    return x\n",
    "url = get_url(url)\n",
    "req = Request(url)\n",
    "res = urlopen(url) \n",
    "print(url)"
   ]
  },
  {
   "cell_type": "code",
   "execution_count": 11,
   "metadata": {},
   "outputs": [
    {
     "name": "stdout",
     "output_type": "stream",
     "text": [
      "www.naver.com\n"
     ]
    }
   ],
   "source": [
    "# 4번 문제 답\n",
    "def get_url(name):\n",
    "    return f'www.{name}.com'\n",
    "\n",
    "inname = input('웹사이트 이름 입력 > ')\n",
    "url = get_url(inname)\n",
    "print(url)\n"
   ]
  },
  {
   "cell_type": "markdown",
   "metadata": {},
   "source": [
    "## 5번 문제"
   ]
  },
  {
   "cell_type": "code",
   "execution_count": 14,
   "metadata": {},
   "outputs": [
    {
     "name": "stdout",
     "output_type": "stream",
     "text": [
      "4 8 12 16 20 24 28 32 36 "
     ]
    }
   ],
   "source": [
    "# 5번 문제\n",
    "number = input('구구단을 수행할 단번호를 입력하시오 > ')\n",
    "j = 0\n",
    "while j < 9:\n",
    "    j = j + 1\n",
    "    print(int(number) * j, end=' ')"
   ]
  },
  {
   "cell_type": "code",
   "execution_count": 12,
   "metadata": {},
   "outputs": [
    {
     "name": "stdout",
     "output_type": "stream",
     "text": [
      "5--> 5 10 15 20 25 30 35 40 45 "
     ]
    }
   ],
   "source": [
    "# 5번 문제 답\n",
    "dan_num = int(input('구구단 단번호 입력 > '))\n",
    "print(dan_num, end='--> ')\n",
    "for i in range(1,10):\n",
    "    print(dan_num * i, end=' ')"
   ]
  }
 ],
 "metadata": {
  "kernelspec": {
   "display_name": "Python 3",
   "language": "python",
   "name": "python3"
  },
  "language_info": {
   "codemirror_mode": {
    "name": "ipython",
    "version": 3
   },
   "file_extension": ".py",
   "mimetype": "text/x-python",
   "name": "python",
   "nbconvert_exporter": "python",
   "pygments_lexer": "ipython3",
   "version": "3.11.5"
  }
 },
 "nbformat": 4,
 "nbformat_minor": 2
}
